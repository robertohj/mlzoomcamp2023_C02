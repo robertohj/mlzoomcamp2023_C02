{
 "cells": [
  {
   "cell_type": "code",
   "execution_count": 5,
   "metadata": {},
   "outputs": [],
   "source": [
    "import requests"
   ]
  },
  {
   "cell_type": "code",
   "execution_count": 6,
   "metadata": {},
   "outputs": [],
   "source": [
    "url = \"http://localhost:9696/predict\""
   ]
  },
  {
   "cell_type": "code",
   "execution_count": 7,
   "metadata": {},
   "outputs": [],
   "source": [
    "test_sample_animals = [\n",
    "    \"./img/1447858661804.jpeg\",\n",
    "    \"./img/African Painted Dogs 0187 - Grahm S. Jones, Columbus Zoo and Aquarium.jpg\",\n",
    "    \"./img/quokka.jpg\",\n",
    "    \"./img/bat.jpg\",\n",
    "    \"./img/bat2.jpg\",\n",
    "    \"./img/zebra_web.jpg\"\n",
    "]"
   ]
  },
  {
   "cell_type": "code",
   "execution_count": 9,
   "metadata": {},
   "outputs": [
    {
     "name": "stdout",
     "output_type": "stream",
     "text": [
      "\n",
      "Predicting for  ./img/1447858661804.jpeg  ...\n",
      "(butterfly, 0.9037681818008423)\n",
      "\n",
      "Predicting for  ./img/African Painted Dogs 0187 - Grahm S. Jones, Columbus Zoo and Aquarium.jpg  ...\n",
      "(hyena, 0.8346098065376282)\n",
      "\n",
      "Predicting for  ./img/quokka.jpg  ...\n",
      "(raccoon, 0.582524299621582)\n",
      "\n",
      "Predicting for  ./img/bat.jpg  ...\n",
      "(mouse, 0.8570300340652466)\n",
      "\n",
      "Predicting for  ./img/bat2.jpg  ...\n",
      "(bat, 0.7186681032180786)\n",
      "\n",
      "Predicting for  ./img/zebra_web.jpg  ...\n",
      "(zebra, 0.998904824256897)\n"
     ]
    },
    {
     "ename": "",
     "evalue": "",
     "output_type": "error",
     "traceback": [
      "\u001b[1;31mThe Kernel crashed while executing code in the the current cell or a previous cell. Please review the code in the cell(s) to identify a possible cause of the failure. Click <a href='https://aka.ms/vscodeJupyterKernelCrash'>here</a> for more info. View Jupyter <a href='command:jupyter.viewOutput'>log</a> for further details."
     ]
    }
   ],
   "source": [
    "for img_path in test_sample_animals:\n",
    "    print(\"\\nPredicting for \", img_path, \" ...\")\n",
    "    response = requests.post(url, json = img_path).json()\n",
    "    predicted_class = response[\"class_label\"]\n",
    "    predicted_proba = response[\"class_probability\"]\n",
    "    print(f\"({predicted_class}, {predicted_proba})\")"
   ]
  },
  {
   "cell_type": "code",
   "execution_count": 21,
   "metadata": {},
   "outputs": [
    {
     "name": "stdout",
     "output_type": "stream",
     "text": [
      "\n",
      "Predicting for  ./img/1447858661804.jpeg  ...\n",
      "(butterfly, 0.9037681818008423)\n",
      "\n",
      "Predicting for  ./img/African Painted Dogs 0187 - Grahm S. Jones, Columbus Zoo and Aquarium.jpg  ...\n",
      "(hyena, 0.8346098065376282)\n",
      "\n",
      "Predicting for  ./img/quokka.jpg  ...\n",
      "(raccoon, 0.582524299621582)\n",
      "\n",
      "Predicting for  ./img/bat.jpg  ...\n",
      "(mouse, 0.8570300340652466)\n",
      "\n",
      "Predicting for  ./img/bat2.jpg  ...\n",
      "(bat, 0.7186681032180786)\n",
      "\n",
      "Predicting for  ./img/zebra_web.jpg  ...\n",
      "(zebra, 0.998904824256897)\n"
     ]
    }
   ],
   "source": [
    "# Same, but serving with waitress and docker:\n",
    "for img_path in test_sample_animals:\n",
    "    print(\"\\nPredicting for \", img_path, \" ...\")\n",
    "    response = requests.post(url, json = img_path).json()\n",
    "    predicted_class = response[\"class_label\"]\n",
    "    predicted_proba = response[\"class_probability\"]\n",
    "    print(f\"({predicted_class}, {predicted_proba})\")"
   ]
  }
 ],
 "metadata": {
  "kernelspec": {
   "display_name": ".venv",
   "language": "python",
   "name": "python3"
  },
  "language_info": {
   "codemirror_mode": {
    "name": "ipython",
    "version": 3
   },
   "file_extension": ".py",
   "mimetype": "text/x-python",
   "name": "python",
   "nbconvert_exporter": "python",
   "pygments_lexer": "ipython3",
   "version": "3.11.3"
  }
 },
 "nbformat": 4,
 "nbformat_minor": 2
}
