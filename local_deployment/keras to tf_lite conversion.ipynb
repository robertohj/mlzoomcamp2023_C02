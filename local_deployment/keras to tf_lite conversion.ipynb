{
 "cells": [
  {
   "cell_type": "code",
   "execution_count": 2,
   "metadata": {},
   "outputs": [
    {
     "name": "stdout",
     "output_type": "stream",
     "text": [
      "WARNING:tensorflow:From c:\\Users\\RobertoHernándezJimé\\OneDrive - Ventagium Data Consulting\\Continuous Improvement\\AI\\ML Zoomcamp\\P02\\capstone01\\TEST\\.venv\\Lib\\site-packages\\keras\\src\\losses.py:2976: The name tf.losses.sparse_softmax_cross_entropy is deprecated. Please use tf.compat.v1.losses.sparse_softmax_cross_entropy instead.\n",
      "\n"
     ]
    }
   ],
   "source": [
    "import pickle\n",
    "import numpy as np\n",
    "\n",
    "import tensorflow as tf\n",
    "from tensorflow import keras\n",
    "from tensorflow.keras.utils import load_img  # pip install pillow, then restart the kernel\n"
   ]
  },
  {
   "cell_type": "code",
   "execution_count": 9,
   "metadata": {},
   "outputs": [],
   "source": [
    "from efficientnet.tfkeras import preprocess_input"
   ]
  },
  {
   "cell_type": "code",
   "execution_count": 10,
   "metadata": {},
   "outputs": [],
   "source": [
    "LARGE_IMAGE_SIZE = 224  # Size that the base model has as default input size\n"
   ]
  },
  {
   "cell_type": "code",
   "execution_count": 11,
   "metadata": {},
   "outputs": [],
   "source": [
    "best_EfficientNetB3_model = keras.models.load_model('EfficientNetB3_large_07_0.927.keras')\n"
   ]
  },
  {
   "cell_type": "code",
   "execution_count": 12,
   "metadata": {},
   "outputs": [
    {
     "name": "stdout",
     "output_type": "stream",
     "text": [
      "Loading test animals...\n"
     ]
    }
   ],
   "source": [
    "print(\"Loading test animals...\")\n",
    "test_sample_animals = [\n",
    "    \"./img/animals/duck/72decb40db.jpg\",\n",
    "    \"./img/animals/crow/03c7cea31f.jpg\",\n",
    "    \"./img/animals/possum/3f9a0f744a.jpg\",\n",
    "    \"./img/animals/bison/4d50fcf8a7.jpg\",\n",
    "    \"./img/animals/pelecaniformes/105d4649cc.jpg\",\n",
    "    \"./img/animals/deer/66c58b431f.jpg\"\n",
    "]"
   ]
  },
  {
   "cell_type": "code",
   "execution_count": 13,
   "metadata": {},
   "outputs": [],
   "source": [
    "# The classes were also saved previously as pkl, so we can use them as such:\n",
    "with open('encoded_classes.pkl', 'rb') as inp:\n",
    "    encoded_classes = pickle.load(inp)"
   ]
  },
  {
   "cell_type": "code",
   "execution_count": 14,
   "metadata": {},
   "outputs": [
    {
     "name": "stdout",
     "output_type": "stream",
     "text": [
      "Predicting...\n",
      "\n",
      "SAMPLE image:  ./img/animals/duck/72decb40db.jpg\n",
      "1/1 [==============================] - 4s 4s/step\n",
      "Predicted class:  22\n",
      "Predicted label:  duck\n",
      "Predicted proba:  0.9989586\n",
      "\n",
      "SAMPLE image:  ./img/animals/crow/03c7cea31f.jpg\n",
      "1/1 [==============================] - 0s 184ms/step\n",
      "Predicted class:  16\n",
      "Predicted label:  crow\n",
      "Predicted proba:  0.9969054\n",
      "\n",
      "SAMPLE image:  ./img/animals/possum/3f9a0f744a.jpg\n",
      "1/1 [==============================] - 0s 136ms/step\n",
      "Predicted class:  66\n",
      "Predicted label:  possum\n",
      "Predicted proba:  0.8718428\n",
      "\n",
      "SAMPLE image:  ./img/animals/bison/4d50fcf8a7.jpg\n",
      "1/1 [==============================] - 0s 158ms/step\n",
      "Predicted class:  6\n",
      "Predicted label:  bison\n",
      "Predicted proba:  0.98868936\n",
      "\n",
      "SAMPLE image:  ./img/animals/pelecaniformes/105d4649cc.jpg\n",
      "1/1 [==============================] - 0s 162ms/step\n",
      "Predicted class:  61\n",
      "Predicted label:  pelecaniformes\n",
      "Predicted proba:  0.99506265\n",
      "\n",
      "SAMPLE image:  ./img/animals/deer/66c58b431f.jpg\n",
      "1/1 [==============================] - 0s 129ms/step\n",
      "Predicted class:  17\n",
      "Predicted label:  deer\n",
      "Predicted proba:  0.9881585\n"
     ]
    }
   ],
   "source": [
    "print(\"Predicting...\")\n",
    "for i, sample_path in zip(np.arange(len(test_sample_animals)), test_sample_animals):\n",
    "    test_sample_img = load_img(sample_path)\n",
    "    print(\"\\nSAMPLE image: \",sample_path)\n",
    "    x = np.array(test_sample_img)\n",
    "    #print(x.shape)\n",
    "    x = center_crop_and_resize(x, image_size=LARGE_IMAGE_SIZE)\n",
    "    #print(x.shape)\n",
    "    X = preprocess_input(x)\n",
    "    X = np.expand_dims(X, 0) # expand dimensions\n",
    "    #X = np.array([X])  # expand dimensions\n",
    "    \n",
    "    #print(\"\\t\", X.shape)\n",
    "    pred = best_EfficientNetB3_model.predict(X)\n",
    "    y_pred = np.argmax(pred, axis = 1)\n",
    "    predicted_class = y_pred\n",
    "    predicted_proba = np.asarray(tf.reduce_max(pred)).flatten()[0]\n",
    "    predicted_label = encoded_classes[y_pred[0]]\n",
    "    print(\"Predicted class: \", y_pred[0])\n",
    "    print(\"Predicted label: \",predicted_label)\n",
    "    print(\"Predicted proba: \", predicted_proba)"
   ]
  },
  {
   "cell_type": "markdown",
   "metadata": {},
   "source": [
    "# Convert Keras to TFLite"
   ]
  },
  {
   "cell_type": "code",
   "execution_count": 15,
   "metadata": {},
   "outputs": [
    {
     "name": "stdout",
     "output_type": "stream",
     "text": [
      "INFO:tensorflow:Assets written to: C:\\Users\\ROBERT~1\\AppData\\Local\\Temp\\tmps7c8giki\\assets\n"
     ]
    },
    {
     "name": "stderr",
     "output_type": "stream",
     "text": [
      "INFO:tensorflow:Assets written to: C:\\Users\\ROBERT~1\\AppData\\Local\\Temp\\tmps7c8giki\\assets\n"
     ]
    }
   ],
   "source": [
    "converter = tf.lite.TFLiteConverter.from_keras_model(best_EfficientNetB3_model)\n",
    "tflite_model = converter.convert()\n",
    "\n",
    "with open(\"EfficientNetB3_large_07_0.927.tflite\", \"wb\") as f_out:\n",
    "    f_out.write(tflite_model)"
   ]
  },
  {
   "cell_type": "code",
   "execution_count": 17,
   "metadata": {},
   "outputs": [],
   "source": [
    "import tensorflow.lite as tflite"
   ]
  },
  {
   "cell_type": "code",
   "execution_count": 18,
   "metadata": {},
   "outputs": [],
   "source": [
    "interpreter = tflite.Interpreter(model_path = \"EfficientNetB3_large_07_0.927.tflite\")\n",
    "interpreter.allocate_tensors()"
   ]
  },
  {
   "cell_type": "code",
   "execution_count": 19,
   "metadata": {},
   "outputs": [
    {
     "data": {
      "text/plain": [
       "[{'name': 'serving_default_inputLayer:0',\n",
       "  'index': 0,\n",
       "  'shape': array([  1, 224, 224,   3]),\n",
       "  'shape_signature': array([ -1, 224, 224,   3]),\n",
       "  'dtype': numpy.float32,\n",
       "  'quantization': (0.0, 0),\n",
       "  'quantization_parameters': {'scales': array([], dtype=float32),\n",
       "   'zero_points': array([], dtype=int32),\n",
       "   'quantized_dimension': 0},\n",
       "  'sparsity_parameters': {}}]"
      ]
     },
     "execution_count": 19,
     "metadata": {},
     "output_type": "execute_result"
    }
   ],
   "source": [
    "interpreter.get_input_details()"
   ]
  },
  {
   "cell_type": "code",
   "execution_count": 20,
   "metadata": {},
   "outputs": [
    {
     "data": {
      "text/plain": [
       "0"
      ]
     },
     "execution_count": 20,
     "metadata": {},
     "output_type": "execute_result"
    }
   ],
   "source": [
    "interpreter.get_input_details()[0][\"index\"]"
   ]
  },
  {
   "cell_type": "code",
   "execution_count": 30,
   "metadata": {},
   "outputs": [],
   "source": [
    "input_index = interpreter.get_input_details()[0][\"index\"]"
   ]
  },
  {
   "cell_type": "code",
   "execution_count": 22,
   "metadata": {},
   "outputs": [
    {
     "data": {
      "text/plain": [
       "[{'name': 'StatefulPartitionedCall:0',\n",
       "  'index': 768,\n",
       "  'shape': array([ 1, 90]),\n",
       "  'shape_signature': array([-1, 90]),\n",
       "  'dtype': numpy.float32,\n",
       "  'quantization': (0.0, 0),\n",
       "  'quantization_parameters': {'scales': array([], dtype=float32),\n",
       "   'zero_points': array([], dtype=int32),\n",
       "   'quantized_dimension': 0},\n",
       "  'sparsity_parameters': {}}]"
      ]
     },
     "execution_count": 22,
     "metadata": {},
     "output_type": "execute_result"
    }
   ],
   "source": [
    "interpreter.get_output_details()"
   ]
  },
  {
   "cell_type": "code",
   "execution_count": 23,
   "metadata": {},
   "outputs": [
    {
     "data": {
      "text/plain": [
       "768"
      ]
     },
     "execution_count": 23,
     "metadata": {},
     "output_type": "execute_result"
    }
   ],
   "source": [
    "output_index = interpreter.get_output_details()[0][\"index\"]\n",
    "output_index"
   ]
  },
  {
   "cell_type": "code",
   "execution_count": 44,
   "metadata": {},
   "outputs": [
    {
     "name": "stdout",
     "output_type": "stream",
     "text": [
      "\n",
      "SAMPLE image:  ./img/animals/duck/72decb40db.jpg\n",
      "1/1 [==============================] - 0s 157ms/step\n",
      "Predicted class:  22\n",
      "Predicted label:  duck\n",
      "Predicted proba:  0.99895847\n"
     ]
    }
   ],
   "source": [
    "## ORIGINAL APPROACH (using the model directly) \n",
    "# try with a sample image:\n",
    "test_img_path = \"./img/animals/duck/72decb40db.jpg\"\n",
    "test_sample_img = load_img(test_img_path)\n",
    "print(\"\\nSAMPLE image: \",test_img_path)\n",
    "x = np.array(test_sample_img, dtype=\"float32\")\n",
    "#print(x.shape)\n",
    "x = center_crop_and_resize(x, image_size=LARGE_IMAGE_SIZE)\n",
    "#print(x.shape)\n",
    "X = preprocess_input(x)\n",
    "X = np.expand_dims(X, 0) # expand dimensions\n",
    "#X = np.array([X])  # expand dimensions\n",
    "\n",
    "#print(\"\\t\", X.shape)\n",
    "pred = best_EfficientNetB3_model.predict(X)\n",
    "y_pred = np.argmax(pred, axis = 1)\n",
    "predicted_class = y_pred\n",
    "predicted_proba = np.asarray(tf.reduce_max(pred)).flatten()[0]\n",
    "predicted_label = encoded_classes[y_pred[0]]\n",
    "print(\"Predicted class: \", y_pred[0])\n",
    "print(\"Predicted label: \",predicted_label)\n",
    "print(\"Predicted proba: \", predicted_proba)"
   ]
  },
  {
   "cell_type": "code",
   "execution_count": 45,
   "metadata": {},
   "outputs": [
    {
     "data": {
      "text/plain": [
       "(1, 224, 224, 3)"
      ]
     },
     "execution_count": 45,
     "metadata": {},
     "output_type": "execute_result"
    }
   ],
   "source": [
    "X.shape"
   ]
  },
  {
   "cell_type": "code",
   "execution_count": 46,
   "metadata": {},
   "outputs": [
    {
     "data": {
      "text/plain": [
       "numpy.float32"
      ]
     },
     "execution_count": 46,
     "metadata": {},
     "output_type": "execute_result"
    }
   ],
   "source": [
    "type(X[0][0][0][0])"
   ]
  },
  {
   "cell_type": "code",
   "execution_count": 47,
   "metadata": {},
   "outputs": [],
   "source": [
    "interpreter.set_tensor(input_index,X)"
   ]
  },
  {
   "cell_type": "code",
   "execution_count": 48,
   "metadata": {},
   "outputs": [],
   "source": [
    "interpreter.invoke()"
   ]
  },
  {
   "cell_type": "code",
   "execution_count": 51,
   "metadata": {},
   "outputs": [
    {
     "data": {
      "text/plain": [
       "(1, 90)"
      ]
     },
     "execution_count": 51,
     "metadata": {},
     "output_type": "execute_result"
    }
   ],
   "source": [
    "interpreter.get_tensor(output_index).shape\n",
    "# these are the predictions (there are 90 classes)"
   ]
  },
  {
   "cell_type": "code",
   "execution_count": 54,
   "metadata": {},
   "outputs": [
    {
     "data": {
      "text/plain": [
       "array([[4.22907533e-06, 1.58134389e-06, 1.43948464e-05, 2.29397278e-06,\n",
       "        2.51556486e-07, 2.39370411e-06, 1.53725323e-05, 7.44731835e-07,\n",
       "        1.40139846e-07, 5.24714687e-06, 5.72991041e-08, 6.93065772e-07,\n",
       "        7.88142370e-06, 2.46119471e-05, 1.06828293e-06, 4.51409875e-07,\n",
       "        1.37386436e-07, 9.88646207e-06, 5.12249585e-07, 4.98129850e-07,\n",
       "        1.02799313e-05, 1.50572896e-06, 9.98958468e-01, 3.01348177e-06,\n",
       "        1.98649718e-06, 1.39685847e-06, 1.83326719e-07, 8.58066016e-07,\n",
       "        1.95844041e-05, 3.05585331e-06, 3.30227864e-04, 1.33114497e-06,\n",
       "        2.01422226e-05, 3.18358161e-06, 1.13936594e-05, 7.48687683e-07,\n",
       "        8.38151536e-05, 9.59467457e-07, 1.08022311e-06, 5.20749950e-08,\n",
       "        1.00840325e-05, 3.34018324e-07, 3.39430289e-06, 7.58177862e-07,\n",
       "        1.63867037e-06, 2.25467531e-07, 9.85683528e-06, 1.75994487e-07,\n",
       "        1.49210457e-08, 4.47408820e-06, 2.54581846e-06, 5.44981674e-07,\n",
       "        1.15507714e-06, 1.97276086e-06, 9.48346678e-06, 1.12053681e-06,\n",
       "        4.77160484e-07, 2.25398126e-05, 4.36751037e-07, 1.10682684e-07,\n",
       "        1.01812975e-06, 1.41595899e-06, 8.86872840e-06, 7.67667279e-06,\n",
       "        2.93139048e-04, 1.97920059e-07, 9.58675287e-07, 1.20372647e-06,\n",
       "        2.12441478e-06, 5.44967406e-06, 4.29466172e-06, 9.68480322e-07,\n",
       "        9.58692681e-07, 4.40618351e-07, 2.34652461e-07, 4.14159558e-07,\n",
       "        8.43816110e-07, 5.84656561e-07, 1.38085788e-05, 2.25337817e-06,\n",
       "        1.79811809e-06, 1.74865036e-05, 1.71777856e-06, 8.33176546e-06,\n",
       "        2.47226853e-06, 2.39597421e-06, 2.58296012e-07, 1.06676843e-07,\n",
       "        1.27164674e-06, 2.33837312e-07]], dtype=float32)"
      ]
     },
     "execution_count": 54,
     "metadata": {},
     "output_type": "execute_result"
    }
   ],
   "source": [
    "#Here are the actual predictions (preds)\n",
    "preds_tflite = interpreter.get_tensor(output_index)\n",
    "preds_tflite"
   ]
  },
  {
   "cell_type": "code",
   "execution_count": 55,
   "metadata": {},
   "outputs": [
    {
     "name": "stdout",
     "output_type": "stream",
     "text": [
      "Predicted class:  22\n",
      "Predicted label:  duck\n",
      "Predicted proba:  0.99895847\n"
     ]
    }
   ],
   "source": [
    "# now we do the rest, just as we did in the previous, original approach:\n",
    "y_pred = np.argmax(preds_tflite, axis = 1)\n",
    "predicted_class = y_pred\n",
    "predicted_proba = np.asarray(tf.reduce_max(pred)).flatten()[0]\n",
    "predicted_label = encoded_classes[y_pred[0]]\n",
    "print(\"Predicted class: \", y_pred[0])\n",
    "print(\"Predicted label: \",predicted_label)\n",
    "print(\"Predicted proba: \", predicted_proba)"
   ]
  },
  {
   "cell_type": "code",
   "execution_count": 56,
   "metadata": {},
   "outputs": [],
   "source": [
    "# you can see that the same results were obtained \n",
    "# as in the original approach (using the original keras model)"
   ]
  },
  {
   "cell_type": "markdown",
   "metadata": {},
   "source": [
    "# Removing TF dependency"
   ]
  },
  {
   "cell_type": "code",
   "execution_count": 57,
   "metadata": {},
   "outputs": [],
   "source": [
    "from PIL import Image"
   ]
  },
  {
   "cell_type": "code",
   "execution_count": 99,
   "metadata": {},
   "outputs": [],
   "source": [
    "# Loading image\n",
    "with Image.open(test_img_path) as img:\n",
    "    img = img.resize((LARGE_IMAGE_SIZE,LARGE_IMAGE_SIZE), Image.NEAREST)"
   ]
  },
  {
   "cell_type": "code",
   "execution_count": 100,
   "metadata": {},
   "outputs": [
    {
     "data": {
      "image/jpeg": "[encoded data removed]",
      "image/png": "[encoded data removed]",
      "text/plain": [
       "<PIL.Image.Image image mode=RGB size=224x224>"
      ]
     },
     "execution_count": 100,
     "metadata": {},
     "output_type": "execute_result"
    }
   ],
   "source": [
    "img"
   ]
  },
  {
   "cell_type": "code",
   "execution_count": 101,
   "metadata": {},
   "outputs": [
    {
     "data": {
      "text/plain": [
       "array([[[225., 217., 214.],\n",
       "        [225., 217., 214.],\n",
       "        [225., 217., 214.],\n",
       "        ...,\n",
       "        [205., 194., 192.],\n",
       "        [201., 190., 186.],\n",
       "        [199., 188., 184.]],\n",
       "\n",
       "       [[224., 213., 209.],\n",
       "        [224., 213., 209.],\n",
       "        [225., 214., 210.],\n",
       "        ...,\n",
       "        [196., 182., 179.],\n",
       "        [194., 181., 175.],\n",
       "        [193., 180., 174.]],\n",
       "\n",
       "       [[221., 210., 204.],\n",
       "        [221., 210., 204.],\n",
       "        [222., 211., 205.],\n",
       "        ...,\n",
       "        [193., 175., 171.],\n",
       "        [191., 173., 169.],\n",
       "        [191., 173., 169.]],\n",
       "\n",
       "       ...,\n",
       "\n",
       "       [[140., 122.,  84.],\n",
       "        [156., 142., 105.],\n",
       "        [105.,  96.,  67.],\n",
       "        ...,\n",
       "        [209., 171., 135.],\n",
       "        [177., 161., 112.],\n",
       "        [164., 167., 110.]],\n",
       "\n",
       "       [[150., 142., 105.],\n",
       "        [138., 132., 100.],\n",
       "        [102.,  93.,  62.],\n",
       "        ...,\n",
       "        [241., 198., 166.],\n",
       "        [186., 160., 127.],\n",
       "        [158., 146., 104.]],\n",
       "\n",
       "       [[142., 143., 103.],\n",
       "        [ 95., 107.,  59.],\n",
       "        [ 60.,  79.,  23.],\n",
       "        ...,\n",
       "        [115., 123.,  74.],\n",
       "        [156., 165., 120.],\n",
       "        [122., 129.,  78.]]], dtype=float32)"
      ]
     },
     "execution_count": 101,
     "metadata": {},
     "output_type": "execute_result"
    }
   ],
   "source": [
    "x = np.array(img, dtype = 'float32')\n",
    "x"
   ]
  },
  {
   "cell_type": "code",
   "execution_count": 81,
   "metadata": {},
   "outputs": [],
   "source": [
    "# preprocessing without Tensorflow\n",
    "# See: https://github.com/qubvel/efficientnet/blob/master/efficientnet/model.py\n",
    "#  and https://github.com/keras-team/keras-applications/blob/master/keras_applications/imagenet_utils.py#L18\n",
    "#if mode == 'torch':\n",
    "#        x /= 255.\n",
    "#        mean = [0.485, 0.456, 0.406]\n",
    "#        std = [0.229, 0.224, 0.225]\n",
    "\n",
    "def preprocess_input(x):\n",
    "    x /= 255.\n",
    "    #mean = [0.485, 0.456, 0.406]\n",
    "    #std = [0.229, 0.224, 0.225]\n",
    "    return x\n"
   ]
  },
  {
   "cell_type": "code",
   "execution_count": 102,
   "metadata": {},
   "outputs": [
    {
     "data": {
      "text/plain": [
       "array([[[[0.88235295, 0.8509804 , 0.8392157 ],\n",
       "         [0.88235295, 0.8509804 , 0.8392157 ],\n",
       "         [0.88235295, 0.8509804 , 0.8392157 ],\n",
       "         ...,\n",
       "         [0.8039216 , 0.7607843 , 0.7529412 ],\n",
       "         [0.7882353 , 0.74509805, 0.7294118 ],\n",
       "         [0.78039217, 0.7372549 , 0.72156864]],\n",
       "\n",
       "        [[0.8784314 , 0.8352941 , 0.81960785],\n",
       "         [0.8784314 , 0.8352941 , 0.81960785],\n",
       "         [0.88235295, 0.8392157 , 0.8235294 ],\n",
       "         ...,\n",
       "         [0.76862746, 0.7137255 , 0.7019608 ],\n",
       "         [0.7607843 , 0.70980394, 0.6862745 ],\n",
       "         [0.75686276, 0.7058824 , 0.68235296]],\n",
       "\n",
       "        [[0.8666667 , 0.8235294 , 0.8       ],\n",
       "         [0.8666667 , 0.8235294 , 0.8       ],\n",
       "         [0.87058824, 0.827451  , 0.8039216 ],\n",
       "         ...,\n",
       "         [0.75686276, 0.6862745 , 0.67058825],\n",
       "         [0.7490196 , 0.6784314 , 0.6627451 ],\n",
       "         [0.7490196 , 0.6784314 , 0.6627451 ]],\n",
       "\n",
       "        ...,\n",
       "\n",
       "        [[0.54901963, 0.47843137, 0.32941177],\n",
       "         [0.6117647 , 0.5568628 , 0.4117647 ],\n",
       "         [0.4117647 , 0.3764706 , 0.2627451 ],\n",
       "         ...,\n",
       "         [0.81960785, 0.67058825, 0.5294118 ],\n",
       "         [0.69411767, 0.6313726 , 0.4392157 ],\n",
       "         [0.6431373 , 0.654902  , 0.43137255]],\n",
       "\n",
       "        [[0.5882353 , 0.5568628 , 0.4117647 ],\n",
       "         [0.5411765 , 0.5176471 , 0.39215687],\n",
       "         [0.4       , 0.3647059 , 0.24313726],\n",
       "         ...,\n",
       "         [0.94509804, 0.7764706 , 0.6509804 ],\n",
       "         [0.7294118 , 0.627451  , 0.49803922],\n",
       "         [0.61960787, 0.57254905, 0.40784314]],\n",
       "\n",
       "        [[0.5568628 , 0.56078434, 0.40392157],\n",
       "         [0.37254903, 0.41960785, 0.23137255],\n",
       "         [0.23529412, 0.30980393, 0.09019608],\n",
       "         ...,\n",
       "         [0.4509804 , 0.48235294, 0.2901961 ],\n",
       "         [0.6117647 , 0.64705884, 0.47058824],\n",
       "         [0.47843137, 0.5058824 , 0.30588236]]]], dtype=float32)"
      ]
     },
     "execution_count": 102,
     "metadata": {},
     "output_type": "execute_result"
    }
   ],
   "source": [
    "# actual preprocessing\n",
    "X = preprocess_input(x)\n",
    "X = np.expand_dims(X, 0) # expand dimensions (make it \"batch\")\n",
    "#X = np.array([X])  # expand dimensions\n",
    "X"
   ]
  },
  {
   "cell_type": "code",
   "execution_count": 103,
   "metadata": {},
   "outputs": [
    {
     "data": {
      "text/plain": [
       "array([[1.5304171e-06, 2.2694260e-06, 2.9678010e-06, 1.7084599e-06,\n",
       "        1.2404969e-07, 9.2252611e-07, 3.8543099e-06, 2.7455172e-07,\n",
       "        1.6274496e-08, 1.6904231e-06, 5.8820233e-09, 5.2390897e-07,\n",
       "        4.2778702e-06, 2.6119540e-06, 2.2216049e-07, 4.7371418e-07,\n",
       "        6.2444251e-08, 9.1319471e-06, 8.3256580e-08, 9.9368879e-07,\n",
       "        8.2967836e-06, 4.9245330e-07, 9.9959713e-01, 9.5103172e-07,\n",
       "        5.9144804e-07, 1.6359856e-07, 6.3926294e-08, 1.1052159e-06,\n",
       "        7.5918047e-06, 2.0236039e-06, 3.6721394e-05, 2.0918581e-06,\n",
       "        2.2183936e-05, 1.8174186e-06, 1.3592775e-05, 1.7397414e-07,\n",
       "        5.3531985e-05, 1.6738982e-06, 7.6447799e-07, 1.8223892e-08,\n",
       "        1.5438139e-06, 2.9111217e-07, 2.8341974e-06, 8.0121032e-07,\n",
       "        1.1557406e-06, 8.3614808e-08, 1.3465396e-06, 1.2360790e-07,\n",
       "        4.6931286e-09, 8.2675228e-07, 7.1788810e-07, 2.2739027e-07,\n",
       "        4.7924561e-07, 2.9447517e-07, 2.3554746e-06, 4.2534839e-07,\n",
       "        6.3643682e-08, 4.7780604e-06, 6.0434338e-08, 4.4631914e-08,\n",
       "        3.4515872e-07, 1.0682188e-06, 3.3560741e-06, 1.1513084e-06,\n",
       "        1.6151437e-04, 2.0142915e-07, 4.0427250e-07, 4.8089470e-07,\n",
       "        7.7554427e-07, 5.3604444e-06, 5.3821458e-07, 6.7754320e-07,\n",
       "        9.3241873e-08, 8.3453720e-08, 1.7182073e-07, 2.3647733e-07,\n",
       "        8.6176271e-08, 9.9178244e-08, 1.0719872e-05, 2.3185062e-07,\n",
       "        4.0520621e-07, 2.4617830e-06, 3.7417774e-07, 3.7324630e-06,\n",
       "        8.7040843e-07, 5.5755407e-07, 7.5028638e-08, 4.5569788e-08,\n",
       "        7.6042420e-07, 5.7997987e-08]], dtype=float32)"
      ]
     },
     "execution_count": 103,
     "metadata": {},
     "output_type": "execute_result"
    }
   ],
   "source": [
    "# follow the rest of the process\n",
    "# Use tflite model: \n",
    "interpreter.set_tensor(input_index,X)\n",
    "interpreter.invoke()\n",
    "interpreter.get_tensor(output_index).shape\n",
    "#Here are the actual predictions (preds)\n",
    "preds_tflite = interpreter.get_tensor(output_index)\n",
    "preds_tflite"
   ]
  },
  {
   "cell_type": "code",
   "execution_count": 104,
   "metadata": {},
   "outputs": [
    {
     "name": "stdout",
     "output_type": "stream",
     "text": [
      "Predicted class:  22\n",
      "Predicted label:  duck\n",
      "Predicted proba:  0.99895847\n"
     ]
    }
   ],
   "source": [
    "# now we do the rest, just as we did in the previous, original approach:\n",
    "y_pred = np.argmax(preds_tflite, axis = 1)\n",
    "predicted_class = y_pred\n",
    "predicted_proba = np.asarray(tf.reduce_max(pred)).flatten()[0]\n",
    "predicted_label = encoded_classes[y_pred[0]]\n",
    "print(\"Predicted class: \", y_pred[0])\n",
    "print(\"Predicted label: \",predicted_label)\n",
    "print(\"Predicted proba: \", predicted_proba)"
   ]
  },
  {
   "cell_type": "markdown",
   "metadata": {},
   "source": [
    "# Putting it all together (NO Tensorflow, just TFLITE)"
   ]
  },
  {
   "cell_type": "code",
   "execution_count": 124,
   "metadata": {},
   "outputs": [],
   "source": [
    "import pickle\n",
    "import numpy as np\n",
    "from PIL import Image\n",
    "import tensorflow.lite as tflite"
   ]
  },
  {
   "cell_type": "code",
   "execution_count": 125,
   "metadata": {},
   "outputs": [],
   "source": [
    "LARGE_IMAGE_SIZE = 224  # Size that the base model has as default input size\n",
    "IMG_SIZE = (LARGE_IMAGE_SIZE,LARGE_IMAGE_SIZE)"
   ]
  },
  {
   "cell_type": "code",
   "execution_count": 126,
   "metadata": {},
   "outputs": [],
   "source": [
    "# preprocessing without Tensorflow\n",
    "# See: https://github.com/qubvel/efficientnet/blob/master/efficientnet/model.py\n",
    "#  and https://github.com/keras-team/keras-applications/blob/master/keras_applications/imagenet_utils.py#L18\n",
    "#if mode == 'torch':\n",
    "#        x /= 255.\n",
    "#        mean = [0.485, 0.456, 0.406]\n",
    "#        std = [0.229, 0.224, 0.225]\n",
    "def preprocess_input(x):\n",
    "    x /= 255.\n",
    "    #mean = [0.485, 0.456, 0.406]\n",
    "    #std = [0.229, 0.224, 0.225]\n",
    "    return x"
   ]
  },
  {
   "cell_type": "code",
   "execution_count": 127,
   "metadata": {},
   "outputs": [],
   "source": [
    "# load_img >> this replaces the load_image from the tf/keras packages\n",
    "def load_img(img_path, img_size):\n",
    "    #img_path: path including file name\n",
    "    # img_size: tuple, e.g. (LARGE_IMAGE_SIZE,LARGE_IMAGE_SIZE)\n",
    "    with Image.open(img_path) as img:\n",
    "        img = img.resize(img_size, Image.NEAREST)\n",
    "        x = np.array(img, dtype = 'float32')\n",
    "        return x"
   ]
  },
  {
   "cell_type": "code",
   "execution_count": 128,
   "metadata": {},
   "outputs": [],
   "source": [
    "# Load the TFLite model (converted from the keras model)\n",
    "interpreter = tflite.Interpreter(model_path = \"EfficientNetB3_large_07_0.927.tflite\")\n",
    "interpreter.allocate_tensors()\n",
    "input_index = interpreter.get_input_details()[0][\"index\"]\n",
    "output_index = interpreter.get_output_details()[0][\"index\"]"
   ]
  },
  {
   "cell_type": "code",
   "execution_count": 129,
   "metadata": {},
   "outputs": [],
   "source": [
    "# The classes were also saved previously as pkl, so we can use them as such:\n",
    "with open('encoded_classes.pkl', 'rb') as inp:\n",
    "    encoded_classes = pickle.load(inp)"
   ]
  },
  {
   "cell_type": "markdown",
   "metadata": {},
   "source": [
    "## Predicting on test animals"
   ]
  },
  {
   "cell_type": "code",
   "execution_count": 130,
   "metadata": {},
   "outputs": [
    {
     "name": "stdout",
     "output_type": "stream",
     "text": [
      "Loading test animals...\n"
     ]
    }
   ],
   "source": [
    "print(\"Loading test animals...\")\n",
    "test_sample_animals = [\n",
    "    \"./img/animals/duck/72decb40db.jpg\",\n",
    "    \"./img/animals/crow/03c7cea31f.jpg\",\n",
    "    \"./img/animals/possum/3f9a0f744a.jpg\",\n",
    "    \"./img/animals/bison/4d50fcf8a7.jpg\",\n",
    "    \"./img/animals/pelecaniformes/105d4649cc.jpg\",\n",
    "    \"./img/animals/deer/66c58b431f.jpg\"\n",
    "]"
   ]
  },
  {
   "cell_type": "code",
   "execution_count": 123,
   "metadata": {},
   "outputs": [
    {
     "name": "stdout",
     "output_type": "stream",
     "text": [
      "Predicting...\n",
      "\n",
      "SAMPLE image:  ./img/animals/duck/72decb40db.jpg\n",
      "Predicted class:  22\n",
      "Predicted label:  duck\n",
      "Predicted proba:  0.99959713\n",
      "\n",
      "SAMPLE image:  ./img/animals/crow/03c7cea31f.jpg\n",
      "Predicted class:  16\n",
      "Predicted label:  crow\n",
      "Predicted proba:  0.9807859\n",
      "\n",
      "SAMPLE image:  ./img/animals/possum/3f9a0f744a.jpg\n",
      "Predicted class:  66\n",
      "Predicted label:  possum\n",
      "Predicted proba:  0.92972505\n",
      "\n",
      "SAMPLE image:  ./img/animals/bison/4d50fcf8a7.jpg\n",
      "Predicted class:  24\n",
      "Predicted label:  elephant\n",
      "Predicted proba:  0.27149683\n",
      "\n",
      "SAMPLE image:  ./img/animals/pelecaniformes/105d4649cc.jpg\n",
      "Predicted class:  61\n",
      "Predicted label:  pelecaniformes\n",
      "Predicted proba:  0.9996897\n",
      "\n",
      "SAMPLE image:  ./img/animals/deer/66c58b431f.jpg\n",
      "Predicted class:  17\n",
      "Predicted label:  deer\n",
      "Predicted proba:  0.9986933\n"
     ]
    }
   ],
   "source": [
    "print(\"Predicting...\")\n",
    "for i, sample_path in zip(np.arange(len(test_sample_animals)), test_sample_animals):\n",
    "    # Load the images using the new load_img() function already returns an np.array(dtype='float32')\n",
    "    x = load_img(sample_path, IMG_SIZE)\n",
    "    print(\"\\nSAMPLE image: \",sample_path)\n",
    "    #x = np.array(test_sample_img)\n",
    "    #print(x.shape)\n",
    "    #x = center_crop_and_resize(x, image_size=LARGE_IMAGE_SIZE)\n",
    "    #print(x.shape)\n",
    "    X = preprocess_input(x)\n",
    "    X = np.expand_dims(X, 0) # expand dimensions (make it \"batch\")\n",
    "    #X = np.array([X])  # expand dimensions\n",
    "    \n",
    "    #print(\"\\t\", X.shape)\n",
    "    # This was using the keras model:\n",
    "    #pred = best_EfficientNetB3_model.predict(X)\n",
    "    # This is actual predictions using the tflite model:\n",
    "    interpreter.set_tensor(input_index,X)\n",
    "    interpreter.invoke()\n",
    "    pred_tflite = interpreter.get_tensor(output_index)\n",
    "    # The rest is the same:\n",
    "    y_pred = np.argmax(pred_tflite, axis = 1)\n",
    "    predicted_class = y_pred\n",
    "    predicted_proba = pred_tflite.flatten()[y_pred][0]\n",
    "    predicted_label = encoded_classes[y_pred[0]]\n",
    "    print(\"Predicted class: \", y_pred[0])\n",
    "    print(\"Predicted label: \",predicted_label)\n",
    "    print(\"Predicted proba: \", predicted_proba)"
   ]
  }
 ],
 "metadata": {
  "kernelspec": {
   "display_name": ".venv",
   "language": "python",
   "name": "python3"
  },
  "language_info": {
   "codemirror_mode": {
    "name": "ipython",
    "version": 3
   },
   "file_extension": ".py",
   "mimetype": "text/x-python",
   "name": "python",
   "nbconvert_exporter": "python",
   "pygments_lexer": "ipython3",
   "version": "3.11.3"
  }
 },
 "nbformat": 4,
 "nbformat_minor": 2
}
